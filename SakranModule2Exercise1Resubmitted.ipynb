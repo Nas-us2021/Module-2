{
 "cells": [
  {
   "cell_type": "markdown",
   "metadata": {},
   "source": [
    "1. Print out a data type of a variable?"
   ]
  },
  {
   "cell_type": "code",
   "execution_count": null,
   "metadata": {},
   "outputs": [],
   "source": [
    "My_Variable = \"Nas_VariableTxt\"\n",
    "print (\"My variable is:\", My_Variable)\n",
    "print (type(My_Variable))\n"
   ]
  },
  {
   "cell_type": "markdown",
   "metadata": {},
   "source": [
    "2. Round 4.5667 to the nearest hundreth using a build-in function, round()."
   ]
  },
  {
   "cell_type": "code",
   "execution_count": null,
   "metadata": {},
   "outputs": [],
   "source": [
    "float_num = 4.5667\n",
    "print (\"Original number: \", float_num)\n",
    "float_num = round(float_num,2)\n",
    "print (\"Number after rounding to hundreth: \",float_num)\n",
    "print (\"Another way: \", round(4.5667,2))"
   ]
  },
  {
   "cell_type": "markdown",
   "metadata": {},
   "source": [
    "3. Convert \"657\" to an integer data type"
   ]
  },
  {
   "cell_type": "code",
   "execution_count": null,
   "metadata": {},
   "outputs": [],
   "source": [
    "MyNumber1 = \"657\"\n",
    "print (\"Original number: \", MyNumber1, type(MyNumber1))\n",
    "MyNumber1 = int(MyNumber1)\n",
    "print (\"Converted number: \", MyNumber1, type(MyNumber1))\n"
   ]
  },
  {
   "cell_type": "markdown",
   "metadata": {},
   "source": [
    "4. Write a function to calculate the miles per gallon.\n",
    "Get a miles driven and gallons used from a user and call your function to calculate the miles per gallon. "
   ]
  },
  {
   "cell_type": "code",
   "execution_count": null,
   "metadata": {},
   "outputs": [],
   "source": [
    "def calcmpg (miles, gallons):\n",
    "    print (f\"Miles:{miles} ; Gallons: {gallons}\" )\n",
    "    mpg = miles / gallons\n",
    "    print (f\"Miles per gallon =: \", mpg)\n",
    "        \n",
    "miles = int(input(\"Please enter miles:\\t\"))\n",
    "gallons = int(input (\"Please enter gallons:\\t\"))\n",
    "calcmpg (miles, gallons)\n"
   ]
  },
  {
   "cell_type": "markdown",
   "metadata": {},
   "source": [
    "5.calculate more, get comments\n",
    "\n",
    "The output should look something like this:\n",
    "\n",
    "    Enter miles driven:            150\n",
    "    Enter gallons of gas used:     15\n",
    "    Enter cost per gallon:          3\n",
    "\n",
    "    Miles Per Gallon:   10.0\n",
    "    Total Gas Cost:     45.0\n",
    "    Cost per Mile:      0.3\n",
    "    "
   ]
  },
  {
   "cell_type": "code",
   "execution_count": null,
   "metadata": {},
   "outputs": [],
   "source": [
    "def calcmpg (miles, gallons):\n",
    "    print (f\"Miles:{miles} ; Gallons: {gallons}\" )\n",
    "    mpg = miles / gallons\n",
    "    print (f\"Miles per gallon =: \", mpg)\n",
    "    return\n",
    "      \n",
    "def cost_per_gallon (miles, gallons, gasprice) :\n",
    "    print(f\"\\nMiles per trip: \", miles)\n",
    "    print (f\"Gallons of gas used: \", gallons)\n",
    "    print (f\"Cost per gallon of gas: \", gasprice)\n",
    "    print (f\"Miles per gallon: \", miles/gallons)\n",
    "    print (f\"Total gas cost: \", (gallons*gasprice))\n",
    "    print (f\"Cost per mile: \", (gallons*gasprice) /miles)\n",
    "    return\n",
    "    \n",
    "           \n",
    "miles = float(input(\"Please enter miles: \"))\n",
    "gallons = int(input (\"Please enter gallons: \"))\n",
    "calcmpg (miles, gallons)\n",
    "           \n",
    "gasprice = float(input (\"Please enter cost of gas per gallon:\"))\n",
    "cost_per_gallon (miles, gallons, gasprice)"
   ]
  },
  {
   "cell_type": "markdown",
   "metadata": {},
   "source": [
    "6. Write a function called multiply_two() that accepts two parameters. The function should print a message like '15 + 2 = 17'.  Randomly generate two numbers between 1 and 100, then call the function with the two random numbers."
   ]
  },
  {
   "cell_type": "code",
   "execution_count": null,
   "metadata": {},
   "outputs": [],
   "source": [
    "import random\n",
    "\n",
    "#Multiply or Add?\n",
    "\n",
    "def multiply_two (x, y):\n",
    "    print (\"x is: \", x)\n",
    "    print (\"y is: \", y)\n",
    "    print (\"x + y  = \", x+y)\n",
    "    \n",
    "x = int(input(\"Please enter a number, x: \"))\n",
    "y = int(input (\"Please enter another number, y: \"))\n",
    "multiply_two (x, y)\n",
    "\n",
    "a = random.randint(1, 100)\n",
    "b = random.randint(1, 100)\n",
    "multiply_two (a, b)\n",
    "    \n",
    "\n",
    "    "
   ]
  },
  {
   "cell_type": "code",
   "execution_count": null,
   "metadata": {},
   "outputs": [],
   "source": [
    "import random as rand"
   ]
  },
  {
   "cell_type": "markdown",
   "metadata": {},
   "source": [
    "# 7. Write a function called make_shirt() that accepts a size and the text of a message. The function should print a sentence summarizing the size of the shirt and the message printed on it. The default shirt size is large and default message is 'I love Python!' Make a default size shirt with a message, a medium shirt with the default message, and a shirt of any size with a different message."
   ]
  },
  {
   "cell_type": "code",
   "execution_count": null,
   "metadata": {},
   "outputs": [],
   "source": [
    "def make_shirt(size = \"large\", message ='I love Python! ') :\n",
    "    print (\"\\tSize is: \", size, \", Text is: \", message)\n",
    "\n",
    "print (\"Process default size, any message\")\n",
    "make_shirt (message =\"My random message\")\n",
    "\n",
    "print (\"Process medium size, default messsage\")\n",
    "make_shirt (size = \"medium\") \n",
    " \n",
    "print (\"Process any size, different message\")\n",
    "make_shirt (\"extra large\", \"My different message\")\n",
    "\n"
   ]
  },
  {
   "cell_type": "markdown",
   "metadata": {},
   "source": [
    "8. Create a function for a multiplication table.  Get a number from a user and then call you function which produces a multiplication table for that number.\n",
    "The output should look something like this:\n",
    "\n",
    "        Enter a number: 3\n",
    "        3 X 1 = 3\n",
    "        3 X 2 = 6\n",
    "        3 X 3 = 9\n",
    "        3 X 4 = 12\n",
    "        3 X 5 = 15\n",
    "        3 X 6 = 18\n",
    "        3 X 7 = 21\n",
    "        3 X 8 = 24\n",
    "        3 X 9 = 27\n",
    "        "
   ]
  },
  {
   "cell_type": "code",
   "execution_count": 4,
   "metadata": {},
   "outputs": [
    {
     "name": "stdout",
     "output_type": "stream",
     "text": [
      "Enter the multiplicand number : 33\n",
      "Multiplication Table for :  33\n",
      "Specify how many reiterations: 7\n",
      "1 x 33 = 33\n",
      "2 x 33 = 66\n",
      "3 x 33 = 99\n",
      "4 x 33 = 132\n",
      "5 x 33 = 165\n",
      "6 x 33 = 198\n",
      "7 x 33 = 231\n"
     ]
    }
   ],
   "source": [
    "multiplicand = int(input(\"Enter the multiplicand number : \"))\n",
    "# using for loop to iterate multiplication 10 times.\n",
    "print(\"Multiplication Table for : \", multiplicand)\n",
    "multiplier = 0\n",
    "loop_count = int(input(\"Specify how many reiterations: \"))\n",
    "while loop_count > 0 :\n",
    "    multiplier = multiplier +1\n",
    "    print(multiplier,'x',multiplicand,'=', multiplier*multiplicand)\n",
    "    loop_count = loop_count - 1"
   ]
  },
  {
   "cell_type": "markdown",
   "metadata": {},
   "source": [
    "9. Write a function that accepts a string and returns a string that is \n",
    "    - without any leading nor trailing blanks\n",
    "    - converts to all capital letters\n",
    "    - and replaces all blanks with a period(.).  \n",
    "\n",
    "Write a program to accept a string from a user then call your function and display the original string and changed string.  \n",
    "\n",
    "The output should look something like this:\n",
    "\n",
    "        Enter a text: may your dreams come true\n",
    "        \n",
    "        Original Text: may your dreams come true\n",
    "        New Text: MAY.YOUR.DREAMS.COME.TRUE"
   ]
  },
  {
   "cell_type": "code",
   "execution_count": 8,
   "metadata": {},
   "outputs": [
    {
     "name": "stdout",
     "output_type": "stream",
     "text": [
      "Please enter a sentence\n",
      "   This is my string of 51 chars, inc l/t blanks   \n",
      "Original string is:     This is my string of 51 chars, inc l/t blanks   \n",
      "String length is:  51\n",
      "STRIP THE STRING OF BEGINNING AND TRAILING BLANKS.\n",
      "String length is now:  45\n",
      "NOW MAKE LETTERS ALL UPPER CASE.\n",
      "All caps:  THIS IS MY STRING OF 51 CHARS, INC L/T BLANKS\n",
      "NOW REPLACE ALL BLANKS WITH PERIODS.\n",
      "Blanks replaced with. : THIS.IS.MY.STRING.OF.51.CHARS,.INC.L/T.BLANKS\n"
     ]
    }
   ],
   "source": [
    "def my_string_function (my_string) :\n",
    "    print (\"Original string is: \", my_string)\n",
    "    print (\"String length is: \", len(my_string))\n",
    "    print (\"STRIP THE STRING OF BEGINNING AND TRAILING BLANKS.\")\n",
    "    my_string = my_string.strip()\n",
    "    print (\"String length is now: \", len(my_string))\n",
    "    print (\"NOW MAKE LETTERS ALL UPPER CASE.\")\n",
    "    my_string = str.upper(my_string)\n",
    "    print (\"All caps: \", (my_string))    \n",
    "    print (\"NOW REPLACE ALL BLANKS WITH PERIODS.\")\n",
    "    my_string = my_string.replace(\" \", \".\")\n",
    "    print (\"Blanks replaced with. :\", my_string)\n",
    "           \n",
    "my_string = input(\"Please enter a sentence\\n\")\n",
    "my_string_function (my_string)\n",
    "\n",
    "\n",
    "    \n",
    "    \n"
   ]
  },
  {
   "cell_type": "markdown",
   "metadata": {},
   "source": [
    "10. Write a function that returns a randomly selected character from a passed string. Write a program to accept a string from a user then call your function and display the original string and selected character.\n",
    "\n",
    "The output should look something like this:\n",
    "\n",
    "        Enter a text: functions\n",
    "        Original Text:\tfunctions\n",
    "        Random character:\ts"
   ]
  },
  {
   "cell_type": "code",
   "execution_count": 12,
   "metadata": {},
   "outputs": [
    {
     "name": "stdout",
     "output_type": "stream",
     "text": [
      "Please enter a string: trivialstring\n",
      "USER STRING IS:  trivialstring\n",
      "LENGTH OF STRING IS:  13\n",
      "Random number is:  11\n",
      "PRINT SELECTED CHARACTER:  i\n"
     ]
    }
   ],
   "source": [
    "import random\n",
    "def get_random_character (passed_string) :\n",
    "    print (\"USER STRING IS: \", passed_string)\n",
    "    print(\"LENGTH OF STRING IS: \", len(passed_string))\n",
    "\n",
    "    get_rand_position = random.randint(1, len(passed_string))\n",
    "    print (f\"Random number is: \", get_rand_position)\n",
    "    get_rand_char = passed_string[get_rand_position-1] #start count at 1\n",
    "    print (\"PRINT SELECTED CHARACTER: \", get_rand_char)\n",
    "\n",
    "\n",
    "\n",
    "passed_string = input(\"Please enter a string: \")\n",
    "get_random_character (passed_string)\n",
    "\n",
    "\n"
   ]
  }
 ],
 "metadata": {
  "kernelspec": {
   "display_name": "Python 3",
   "language": "python",
   "name": "python3"
  },
  "language_info": {
   "codemirror_mode": {
    "name": "ipython",
    "version": 3
   },
   "file_extension": ".py",
   "mimetype": "text/x-python",
   "name": "python",
   "nbconvert_exporter": "python",
   "pygments_lexer": "ipython3",
   "version": "3.8.8"
  }
 },
 "nbformat": 4,
 "nbformat_minor": 4
}
