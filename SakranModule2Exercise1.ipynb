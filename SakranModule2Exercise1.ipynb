{
 "cells": [
  {
   "cell_type": "markdown",
   "metadata": {},
   "source": [
    "1. Print out a data type of a variable?"
   ]
  },
  {
   "cell_type": "code",
   "execution_count": 1,
   "metadata": {},
   "outputs": [
    {
     "name": "stdout",
     "output_type": "stream",
     "text": [
      "My variable is: Nas_VariableTxt\n",
      "<class 'str'>\n"
     ]
    }
   ],
   "source": [
    "My_Variable = \"Nas_VariableTxt\"\n",
    "print (\"My variable is:\", My_Variable)\n",
    "print (type(My_Variable))\n"
   ]
  },
  {
   "cell_type": "markdown",
   "metadata": {},
   "source": [
    "2. Round 4.5667 to the nearest hundreth using a build-in function, round()."
   ]
  },
  {
   "cell_type": "code",
   "execution_count": 19,
   "metadata": {},
   "outputs": [
    {
     "name": "stdout",
     "output_type": "stream",
     "text": [
      "Original number:  4.5667\n",
      "Number after rounding to hundreth:  4.57\n",
      "Another way:  4.57\n"
     ]
    }
   ],
   "source": [
    "float_num = 4.5667\n",
    "print (\"Original number: \", float_num)\n",
    "float_num = round(float_num,2)\n",
    "print (\"Number after rounding to hundreth: \",float_num)\n",
    "print (\"Another way: \", round(4.5667,2))"
   ]
  },
  {
   "cell_type": "markdown",
   "metadata": {},
   "source": [
    "3. Convert \"657\" to an integer data type"
   ]
  },
  {
   "cell_type": "code",
   "execution_count": null,
   "metadata": {},
   "outputs": [],
   "source": [
    "MyNumber1 = \"657\"\n",
    "print (\"Original number: \", MyNumber1, type(MyNumber1))\n",
    "MyNumber1 = int(MyNumber1)\n",
    "print (\"Converted number: \", MyNumber1, type(MyNumber1))\n"
   ]
  },
  {
   "cell_type": "markdown",
   "metadata": {},
   "source": [
    "4. Write a function to calculate the miles per gallon.\n",
    "Get a miles driven and gallons used from a user and call your function to calculate the miles per gallon. "
   ]
  },
  {
   "cell_type": "code",
   "execution_count": null,
   "metadata": {},
   "outputs": [],
   "source": [
    "def calcmpg (miles, gallons):\n",
    "    print (f\"Miles:{miles} ; Gallons: {gallons}\" )\n",
    "    mpg = miles / gallons\n",
    "    print (f\"Miles per gallon =: \", mpg)\n",
    "        \n",
    "miles = int(input(\"Please enter miles:\\t\"))\n",
    "gallons = int(input (\"Please enter gallons:\\t\\t\"))\n",
    "calcmpg (miles, gallons)\n"
   ]
  },
  {
   "cell_type": "markdown",
   "metadata": {},
   "source": [
    "5.calculate more, get comments\n",
    "\n",
    "The output should look something like this:\n",
    "\n",
    "    Enter miles driven:            150\n",
    "    Enter gallons of gas used:     15\n",
    "    Enter cost per gallon:          3\n",
    "\n",
    "    Miles Per Gallon:   10.0\n",
    "    Total Gas Cost:     45.0\n",
    "    Cost per Mile:      0.3\n",
    "    "
   ]
  },
  {
   "cell_type": "code",
   "execution_count": 12,
   "metadata": {},
   "outputs": [
    {
     "name": "stdout",
     "output_type": "stream",
     "text": [
      "Please enter miles:\t100\n",
      "Please enter gallons:\t\t10\n",
      "Miles:100 ; Gallons: 10\n",
      "Miles per gallon =:  10.0\n",
      "Please enter cost of gas per gallon:3\n",
      "Cost of gas/gallon:  3\n",
      "Cost of gas/mile:  0.03\n",
      "Cost of gas/trip:  3.0\n"
     ]
    }
   ],
   "source": [
    "def calcmpg (miles, gallons):\n",
    "    print (f\"Miles:{miles} ; Gallons: {gallons}\" )\n",
    "    mpg = miles / gallons\n",
    "    print (f\"Miles per gallon =: \", mpg)\n",
    "      \n",
    "def cost_per_gallon (gasprice):\n",
    "    cost_per_mile = int(gasprice) / miles\n",
    "    cost_trip = miles * cost_per_mile\n",
    "    print (f\"Cost of gas/gallon: \", int(gasprice))\n",
    "    print (f\"Cost of gas/mile: \",cost_per_mile)\n",
    "    print (f\"Cost of gas/trip: \", cost_per_mile * miles)\n",
    "           \n",
    "miles = int(input(\"Please enter miles:\\t\"))\n",
    "gallons = int(input (\"Please enter gallons:\\t\\t\"))\n",
    "calcmpg (miles, gallons)\n",
    "           \n",
    "gasprice = int(input (\"Please enter cost of gas per gallon:\"))\n",
    "cost_per_gallon (gasprice)"
   ]
  },
  {
   "cell_type": "markdown",
   "metadata": {},
   "source": [
    "6. Write a function called multiply_two() that accepts two parameters. The function should print a message like '15 + 2 = 17'.  Randomly generate two numbers between 1 and 100, then call the function with the two random numbers."
   ]
  },
  {
   "cell_type": "code",
   "execution_count": 19,
   "metadata": {},
   "outputs": [
    {
     "name": "stdout",
     "output_type": "stream",
     "text": [
      "Please enter a number, x: 33\n",
      "Please enter another number, y: 33\n",
      "x =  33\n",
      "y =  33\n",
      "x + y  =  66\n",
      "Random a =  1\n",
      "Random b =  3\n",
      "x =  1\n",
      "y =  3\n",
      "x + y  =  4\n"
     ]
    }
   ],
   "source": [
    "import random\n",
    "\n",
    "# Multiply or Add?\n",
    "\n",
    "def multiply_two (x, y):\n",
    "    print (\"x = \",x)\n",
    "    print ('y = ',y)\n",
    "    x - int(x)\n",
    "    y = int(y)\n",
    "    print (\"x + y  = \", x+y)\n",
    "    \n",
    "x = int(input (\"Please enter a number, x: \"))\n",
    "y = int(input (\"Please enter another number, y: \"))\n",
    "multiply_two (x, y)\n",
    "\n",
    "a = random.randint(1, 10)\n",
    "b = random.randint(1, 10)\n",
    "print (\"Random a = \", a)\n",
    "print (\"Random b = \", b)\n",
    "multiply_two (a, b)\n",
    "    \n",
    "\n",
    "    "
   ]
  },
  {
   "cell_type": "code",
   "execution_count": null,
   "metadata": {},
   "outputs": [],
   "source": [
    "import random as rand"
   ]
  },
  {
   "cell_type": "markdown",
   "metadata": {},
   "source": [
    "# 7. Write a function called make_shirt() that accepts a size and the text of a message. The function should print a sentence summarizing the size of the shirt and the message printed on it. The default shirt size is large and default message is 'I love Python!' Make a default size shirt with a message, a medium shirt with the default message, and a shirt of any size with a different message."
   ]
  },
  {
   "cell_type": "code",
   "execution_count": 30,
   "metadata": {},
   "outputs": [
    {
     "name": "stdout",
     "output_type": "stream",
     "text": [
      "Process default size, any message\n",
      "Size is:  large , Text is:  Random message\n",
      "Process medium size, default messsage\n",
      "Size is:  medium , Text is:  I love Python! \n",
      "Process any size, different message\n",
      "Size is:  extra large , Text is:  Different message\n"
     ]
    }
   ],
   "source": [
    "def make_shirt(size = \"large\", message ='I love Python! ') :\n",
    "    print (\"Size is: \", size, \", Text is: \", message)\n",
    "\n",
    "print (\"Process default size, any message\")\n",
    "make_shirt(message =\"Random message\")\n",
    "\n",
    "print (\"Process medium size, default messsage\")\n",
    "make_shirt (size = \"medium\",) \n",
    " \n",
    "print (\"Process any size, different message\")\n",
    "make_shirt (\"extra large\", \"Different message\")\n",
    "\n"
   ]
  },
  {
   "cell_type": "markdown",
   "metadata": {},
   "source": [
    "8. Create a function for a multiplication table.  Get a number from a user and then call you function which produces a multiplication table for that number.\n",
    "The output should look something like this:\n",
    "\n",
    "        Enter a number: 3\n",
    "        3 X 1 = 3\n",
    "        3 X 2 = 6\n",
    "        3 X 3 = 9\n",
    "        3 X 4 = 12\n",
    "        3 X 5 = 15\n",
    "        3 X 6 = 18\n",
    "        3 X 7 = 21\n",
    "        3 X 8 = 24\n",
    "        3 X 9 = 27\n",
    "        "
   ]
  },
  {
   "cell_type": "code",
   "execution_count": 33,
   "metadata": {},
   "outputs": [
    {
     "name": "stdout",
     "output_type": "stream",
     "text": [
      " Enter the number : 3\n",
      "Multiplication Table of :  3\n",
      "3 x 1 = 3\n",
      "3 x 2 = 6\n",
      "3 x 3 = 9\n",
      "3 x 4 = 12\n",
      "3 x 5 = 15\n",
      "3 x 6 = 18\n",
      "3 x 7 = 21\n",
      "3 x 8 = 24\n",
      "3 x 9 = 27\n"
     ]
    }
   ],
   "source": [
    "num = int(input(\" Enter the number : \"))\n",
    "# using for loop to iterate multiplication 10 times.\n",
    "print(\"Multiplication Table of : \", num)\n",
    "for i in range(1,10):\n",
    "    print(num,'x',i,'=',num*i)"
   ]
  },
  {
   "cell_type": "markdown",
   "metadata": {},
   "source": [
    "9. Write a function that accepts a string and returns a string that is \n",
    "    - without any leading nor trailing blanks\n",
    "    - converts to all capital letters\n",
    "    - and replaces all blanks with a period(.).  \n",
    "\n",
    "Write a program to accept a string from a user then call your function and display the original string and changed string.  \n",
    "\n",
    "The output should look something like this:\n",
    "\n",
    "        Enter a text: may your dreams come true\n",
    "        \n",
    "        Original Text: may your dreams come true\n",
    "        New Text: MAY.YOUR.DREAMS.COME.TRUE"
   ]
  },
  {
   "cell_type": "code",
   "execution_count": 82,
   "metadata": {
    "scrolled": true
   },
   "outputs": [
    {
     "name": "stdout",
     "output_type": "stream",
     "text": [
      "Please enter a sentence\n",
      "no sentence\n",
      "Original string is:  no sentence\n",
      "String length is:  11\n",
      "NOW MAKE LETTERS ALL UPPER CASE.\n",
      "All caps:  NO SENTENCE\n",
      "NOW STRIP THE STRING OF BEGINNING AND TRAILING BLANKS.\n",
      "String length is now:  11\n",
      "NOW RepLACE ALL BLANKS WITH PERIODS.\n",
      "BLANKS REPLACED WITH .: NO.SENTENCE\n"
     ]
    }
   ],
   "source": [
    "def my_string_function (original_string) :\n",
    "    print (\"Original string is: \", original_string)\n",
    "    print (\"String length is: \", len(original_string))\n",
    "    print (\"NOW MAKE LETTERS ALL UPPER CASE.\")\n",
    "    my_capital_string = str.upper(original_string)\n",
    "    print (\"All caps: \", (my_capital_string))    \n",
    "    print (\"NOW STRIP THE STRING OF BEGINNING AND TRAILING BLANKS.\")\n",
    "    my_capital_string = my_capital_string.strip()\n",
    "    print (\"String length is now: \", len(my_capital_string))\n",
    "    print (\"NOW RepLACE ALL BLANKS WITH PERIODS.\")\n",
    "    my_replaced_string = my_capital_string.replace(\" \", \".\")\n",
    "    print (\"BLANKS REPLACED WITH .:\", my_replaced_string)\n",
    "           \n",
    "original_string = input(\"Please enter a sentence\\n\")\n",
    "my_string_function (original_string)\n",
    "\n",
    "\n",
    "    \n",
    "    \n"
   ]
  },
  {
   "cell_type": "markdown",
   "metadata": {},
   "source": [
    "10. Write a function that returns a randomly selected character from a passed string. Write a program to accept a string from a user then call your function and display the original string and selected character.\n",
    "\n",
    "The output should look something like this:\n",
    "\n",
    "        Enter a text: functions\n",
    "        Original Text:\tfunctions\n",
    "        Random character:\ts"
   ]
  },
  {
   "cell_type": "code",
   "execution_count": null,
   "metadata": {},
   "outputs": [],
   "source": [
    "import random\n",
    "def get_random_character (passed_string) :\n",
    "    print (\"USER STRING IS: \", passed_string)\n",
    "    print(\"LENGTH OF STRING IS: \", len(passed_string))\n",
    "\n",
    "    random.randint(1, len(passed_string))\n",
    "    a = random.randint(1, len(passed_string))\n",
    "    b = passed_string[a-1] #start count at 1\n",
    "    print (\"PRINT SELECTED CHARACTER: \", b)\n",
    "\n",
    "\n",
    "\n",
    "passed_string = input(\"Please enter a string\")\n",
    "get_random_character (passed_string)\n",
    "\n",
    "\n"
   ]
  },
  {
   "cell_type": "code",
   "execution_count": null,
   "metadata": {},
   "outputs": [],
   "source": []
  },
  {
   "cell_type": "code",
   "execution_count": null,
   "metadata": {},
   "outputs": [],
   "source": []
  }
 ],
 "metadata": {
  "kernelspec": {
   "display_name": "Python 3",
   "language": "python",
   "name": "python3"
  },
  "language_info": {
   "codemirror_mode": {
    "name": "ipython",
    "version": 3
   },
   "file_extension": ".py",
   "mimetype": "text/x-python",
   "name": "python",
   "nbconvert_exporter": "python",
   "pygments_lexer": "ipython3",
   "version": "3.8.8"
  }
 },
 "nbformat": 4,
 "nbformat_minor": 4
}
